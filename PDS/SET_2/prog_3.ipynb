{
 "cells": [
  {
   "cell_type": "markdown",
   "source": [
    "# Program 3: NumPy"
   ],
   "metadata": {}
  },
  {
   "cell_type": "code",
   "execution_count": 1,
   "source": [
    "from numpy import *"
   ],
   "outputs": [],
   "metadata": {}
  },
  {
   "cell_type": "markdown",
   "source": [
    "### Q1. Write a NumPy program to create an element-wise comparison (greater, greater_equal, less and less_equal) of two given arrays. "
   ],
   "metadata": {}
  },
  {
   "cell_type": "code",
   "execution_count": 2,
   "source": [
    "Array1 = array([79,52,41,96,87,32,62,27,16])\r\n",
    "Array2 = array([52,70,90,60,87,32,50,5,16])\r\n",
    "print(\"Array1                            : \", Array1)\r\n",
    "print(\"Array1                            : \", Array2)\r\n",
    "print(\"Equal to comparision              : \",Array1 == Array2)\r\n",
    "print(\"Greater than comparision          : \", Array1 > Array2)\r\n",
    "print(\"Greater than equal to comparision : \", Array1 >= Array2)\r\n",
    "print(\"Less than comparision             : \", Array1 < Array2)\r\n",
    "print(\"Less than equal to comparision    : \", Array1 <= Array2)"
   ],
   "outputs": [
    {
     "output_type": "stream",
     "name": "stdout",
     "text": [
      "Array1                            :  [79 52 41 96 87 32 62 27 16]\n",
      "Array1                            :  [52 70 90 60 87 32 50  5 16]\n",
      "Equal to comparision              :  [False False False False  True  True False False  True]\n",
      "Greater than comparision          :  [ True False False  True False False  True  True False]\n",
      "Greater than equal to comparision :  [ True False False  True  True  True  True  True  True]\n",
      "Less than comparision             :  [False  True  True False False False False False False]\n",
      "Less than equal to comparision    :  [False  True  True False  True  True False False  True]\n"
     ]
    }
   ],
   "metadata": {}
  },
  {
   "cell_type": "markdown",
   "source": [
    "### Q2. Write a NumPy program to create a null vector of size 10 and update sixth value to 11.\r\n",
    "#### [ 0, 0, 0, 0, 0, 0, 0, 0, 0, 0,]\r\n",
    "#### Update sixth value to 11\r\n",
    "#### [ 0, 0, 0, 0, 0, 0, 11, 0, 0, 0,] "
   ],
   "metadata": {}
  },
  {
   "cell_type": "code",
   "execution_count": 3,
   "source": [
    "Vector=zeros(10)\r\n",
    "Vector[6]=11\r\n",
    "Vector"
   ],
   "outputs": [
    {
     "output_type": "execute_result",
     "data": {
      "text/plain": [
       "array([ 0.,  0.,  0.,  0.,  0.,  0., 11.,  0.,  0.,  0.])"
      ]
     },
     "metadata": {},
     "execution_count": 3
    }
   ],
   "metadata": {}
  },
  {
   "cell_type": "markdown",
   "source": [
    "### Q3. Write a NumPy program to find common values between two arrays.\r\n",
    "#### Expected Output:\r\n",
    "#### Array1: [ 0 10 20 40 60]\r\n",
    "#### Array2: [10, 30, 40]\r\n",
    "#### Common values between two arrays:\r\n",
    "#### [10 40] \r\n"
   ],
   "metadata": {}
  },
  {
   "cell_type": "code",
   "execution_count": 4,
   "source": [
    "Array_1=array([0,10,20,40,60])\r\n",
    "Array_2=array([10,30,40])\r\n",
    "intersect1d(Array_1,Array_2)"
   ],
   "outputs": [
    {
     "output_type": "execute_result",
     "data": {
      "text/plain": [
       "array([10, 40])"
      ]
     },
     "metadata": {},
     "execution_count": 4
    }
   ],
   "metadata": {}
  },
  {
   "cell_type": "markdown",
   "source": [
    "### Q4. Write a NumPy program to find the set difference of two arrays. The set difference will return the sorted, unique values in array1 that are not in array2. \r\n"
   ],
   "metadata": {}
  },
  {
   "cell_type": "code",
   "execution_count": 5,
   "source": [
    "setdiff1d(Array_1,Array_2)"
   ],
   "outputs": [
    {
     "output_type": "execute_result",
     "data": {
      "text/plain": [
       "array([ 0, 20, 60])"
      ]
     },
     "metadata": {},
     "execution_count": 5
    }
   ],
   "metadata": {}
  },
  {
   "cell_type": "markdown",
   "source": [
    "### Q5. Write a NumPy program to create a new shape to an array without changing its  data.\r\n",
    "#### Reshape 3x2:\r\n",
    "#### [[1 2]\r\n",
    "#### [3 4]\r\n",
    "#### [5 6]]\r\n",
    "#### Reshape 2x3:\r\n",
    "#### [[1 2 3]\r\n",
    "#### [4 5 6]] \r\n"
   ],
   "metadata": {}
  },
  {
   "cell_type": "code",
   "execution_count": 6,
   "source": [
    "Arr1=array([[1,2],[4,5],[5,5]])\r\n",
    "Arr1.reshape(2,3)"
   ],
   "outputs": [
    {
     "output_type": "execute_result",
     "data": {
      "text/plain": [
       "array([[1, 2, 4],\n",
       "       [5, 5, 5]])"
      ]
     },
     "metadata": {},
     "execution_count": 6
    }
   ],
   "metadata": {}
  }
 ],
 "metadata": {
  "orig_nbformat": 4,
  "language_info": {
   "name": "python",
   "version": "3.9.6",
   "mimetype": "text/x-python",
   "codemirror_mode": {
    "name": "ipython",
    "version": 3
   },
   "pygments_lexer": "ipython3",
   "nbconvert_exporter": "python",
   "file_extension": ".py"
  },
  "kernelspec": {
   "name": "python3",
   "display_name": "Python 3.9.6 64-bit"
  },
  "interpreter": {
   "hash": "63fd5069d213b44bf678585dea6b12cceca9941eaf7f819626cde1f2670de90d"
  }
 },
 "nbformat": 4,
 "nbformat_minor": 2
}