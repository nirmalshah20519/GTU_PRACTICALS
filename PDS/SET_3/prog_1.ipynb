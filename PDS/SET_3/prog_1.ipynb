{
 "cells": [
  {
   "cell_type": "markdown",
   "source": [
    "# Program 1 - Beautiful Soup"
   ],
   "metadata": {}
  },
  {
   "cell_type": "code",
   "execution_count": 1,
   "source": [
    "from bs4 import BeautifulSoup\r\n",
    "import requests"
   ],
   "outputs": [],
   "metadata": {}
  },
  {
   "cell_type": "code",
   "execution_count": 2,
   "source": [
    "LINK=\"https://www.google.com/\"\r\n",
    "webpage = requests.get(LINK)\r\n",
    "webpage"
   ],
   "outputs": [
    {
     "output_type": "execute_result",
     "data": {
      "text/plain": [
       "<Response [200]>"
      ]
     },
     "metadata": {},
     "execution_count": 2
    }
   ],
   "metadata": {}
  },
  {
   "cell_type": "code",
   "execution_count": 3,
   "source": [
    "soup=BeautifulSoup(webpage.content,'html.parser')\r\n",
    "soup.find_all('html')"
   ],
   "outputs": [
    {
     "output_type": "execute_result",
     "data": {
      "text/plain": [
       "[<html itemscope=\"\" itemtype=\"http://schema.org/WebPage\" lang=\"en-IN\"><head><meta content=\"text/html; charset=utf-8\" http-equiv=\"Content-Type\"/><meta content=\"/logos/doodles/2021/michiyo-tsujimuras-133rd-birthday-6753651837109203-l.png\" itemprop=\"image\"/><meta content=\"Michiyo Tsujimura's 133rd Birthday\" property=\"twitter:title\"/><meta content=\"Michiyo Tsujimura's 133rd Birthday! #GoogleDoodle\" property=\"twitter:description\"/><meta content=\"Michiyo Tsujimura's 133rd Birthday! #GoogleDoodle\" property=\"og:description\"/><meta content=\"summary_large_image\" property=\"twitter:card\"/><meta content=\"@GoogleDoodles\" property=\"twitter:site\"/><meta content=\"https://www.google.com/logos/doodles/2021/michiyo-tsujimuras-133rd-birthday-6753651837109203.2-2x.png\" property=\"twitter:image\"/><meta content=\"https://www.google.com/logos/doodles/2021/michiyo-tsujimuras-133rd-birthday-6753651837109203.2-2x.png\" property=\"og:image\"/><meta content=\"1000\" property=\"og:image:width\"/><meta content=\"400\" property=\"og:image:height\"/><title>Google</title><script nonce=\"SaW25zWxhBN3C4zhP+tG0w==\">(function(){window.google={kEI:'2alEYeCJDtijwAOj26vgCQ',kEXPI:'0,1302536,56873,954,5104,207,2415,2389,2316,383,246,5,1354,5251,1122515,1197770,631,328866,51224,16114,17444,11240,17572,4858,1362,9291,3021,3896,13691,4020,978,13228,3847,4192,6430,1141,6291,1221,10391,2778,919,5081,1593,1279,2212,530,149,1103,840,6297,108,3406,606,2023,1777,520,14670,3227,2845,7,5599,6755,5096,16320,908,2,941,2614,13142,3,576,1014,1,5444,149,11323,2652,4,1528,2304,1236,5803,74,1983,2627,2014,11501,3824,3050,2658,4243,3114,30,13628,2305,638,7080,11200,5809,2548,4094,3138,6,908,3,3541,1,14716,1809,282,912,5994,15445,8,656,617,1715,2,3057,5548,20,1214,3,33,3,5388,3,684,784,255,55,3,4492,743,5853,1576,3,471,4473,2,1,2,3935,1160,1269,4921,2,508,2380,2719,2988,494,1063,3,123,3856,1494,360,5028,2833,2,2,5,7771,1933,2636,1596,981,372,2764,539,2076,398,1520,3,583,793,1265,91,805,40,2,4,1,1,2202,720,2,534,980,2,3500,7,1159,1397,319,26,31,4,52,78,39,198,35,415,800,2285,20,48,2711,2,391,2,2002,529,54,60,1825,39,1623,489,68,2,142,676,3,730,228,238,258,8,3634,4,563,987,1101,312,383,160,5575102,446,73,9,78,46,73,5996069,521,2800696,882,444,1,2,80,1,1796,1,9,2553,1,748,141,795,563,1,4265,1,1,2,1331,4142,2609,155,17,13,72,139,4,2,20,2,169,13,19,46,5,39,96,548,29,2,2,1,2,1,2,2,7,4,1,2,2,2,2,2,2,353,513,186,1,1,158,3,2,2,2,2,2,4,2,3,3,269,349,3,170,13,16,5,4,44,3,37,17,35,23654162,299865,4041351,338,3,2414,448,2,463,172,406,9,3239,1274,264,887,849',kBL:'6coZ'};google.sn='webhp';google.kHL='en-IN';})();(function(){\n",
       " var f=this||self;var h,k=[];function l(a){for(var b;a&&(!a.getAttribute||!(b=a.getAttribute(\"eid\")));)a=a.parentNode;return b||h}function m(a){for(var b=null;a&&(!a.getAttribute||!(b=a.getAttribute(\"leid\")));)a=a.parentNode;return b}\n",
       " function n(a,b,c,d,g){var e=\"\";c||-1!==b.search(\"&ei=\")||(e=\"&ei=\"+l(d),-1===b.search(\"&lei=\")&&(d=m(d))&&(e+=\"&lei=\"+d));d=\"\";!c&&f._cshid&&-1===b.search(\"&cshid=\")&&\"slh\"!==a&&(d=\"&cshid=\"+f._cshid);c=c||\"/\"+(g||\"gen_204\")+\"?atyp=i&ct=\"+a+\"&cad=\"+b+e+\"&zx=\"+Date.now()+d;/^http:/i.test(c)&&\"https:\"===window.location.protocol&&(google.ml&&google.ml(Error(\"a\"),!1,{src:c,glmm:1}),c=\"\");return c};h=google.kEI;google.getEI=l;google.getLEI=m;google.ml=function(){return null};google.log=function(a,b,c,d,g){if(c=n(a,b,c,d,g)){a=new Image;var e=k.length;k[e]=a;a.onerror=a.onload=a.onabort=function(){delete k[e]};a.src=c}};google.logUrl=n;}).call(this);(function(){\n",
       " google.y={};google.sy=[];google.x=function(a,b){if(a)var c=a.id;else{do c=Math.random();while(google.y[c])}google.y[c]=[a,b];return!1};google.sx=function(a){google.sy.push(a)};google.lm=[];google.plm=function(a){google.lm.push.apply(google.lm,a)};google.lq=[];google.load=function(a,b,c){google.lq.push([[a],b,c])};google.loadAll=function(a,b){google.lq.push([a,b])};google.bx=!1;google.lx=function(){};}).call(this);google.f={};(function(){\n",
       " document.documentElement.addEventListener(\"submit\",function(b){var a;if(a=b.target){var c=a.getAttribute(\"data-submitfalse\");a=\"1\"===c||\"q\"===c&&!a.elements.q.value?!0:!1}else a=!1;a&&(b.preventDefault(),b.stopPropagation())},!0);document.documentElement.addEventListener(\"click\",function(b){var a;a:{for(a=b.target;a&&a!==document.documentElement;a=a.parentElement)if(\"A\"===a.tagName){a=\"1\"===a.getAttribute(\"data-nohref\");break a}a=!1}a&&b.preventDefault()},!0);}).call(this);</script><style>#gbar,#guser{font-size:13px;padding-top:1px !important;}#gbar{height:22px}#guser{padding-bottom:7px !important;text-align:right}.gbh,.gbd{border-top:1px solid #c9d7f1;font-size:1px}.gbh{height:0;position:absolute;top:24px;width:100%}@media all{.gb1{height:22px;margin-right:.5em;vertical-align:top}#gbar{float:left}}a.gb1,a.gb4{text-decoration:underline !important}a.gb1,a.gb4{color:#00c !important}.gbi .gb4{color:#dd8e27 !important}.gbf .gb4{color:#900 !important}\n",
       " </style><style>body,td,a,p,.h{font-family:arial,sans-serif}body{margin:0;overflow-y:scroll}#gog{padding:3px 8px 0}td{line-height:.8em}.gac_m td{line-height:17px}form{margin-bottom:20px}.h{color:#1558d6}em{font-weight:bold;font-style:normal}.lst{height:25px;width:496px}.gsfi,.lst{font:18px arial,sans-serif}.gsfs{font:17px arial,sans-serif}.ds{display:inline-box;display:inline-block;margin:3px 0 4px;margin-left:4px}input{font-family:inherit}body{background:#fff;color:#000}a{color:#4b11a8;text-decoration:none}a:hover,a:active{text-decoration:underline}.fl a{color:#1558d6}a:visited{color:#4b11a8}.sblc{padding-top:5px}.sblc a{display:block;margin:2px 0;margin-left:13px;font-size:11px}.lsbb{background:#f8f9fa;border:solid 1px;border-color:#dadce0 #70757a #70757a #dadce0;height:30px}.lsbb{display:block}#WqQANb a{display:inline-block;margin:0 12px}.lsb{background:url(/images/nav_logo229.png) 0 -261px repeat-x;border:none;color:#000;cursor:pointer;height:30px;margin:0;outline:0;font:15px arial,sans-serif;vertical-align:top}.lsb:active{background:#dadce0}.lst:focus{outline:none}</style><script nonce=\"SaW25zWxhBN3C4zhP+tG0w==\">(function(){window.google.erd={sp:'hp',jsr:0,bv:166};\n",
       " var f=this||self;var g,h,k=null!==(g=f.mei)&&void 0!==g?g:1,l=null!==(h=f.sdo)&&void 0!==h?h:!0,n=0,p,q=google.erd,t=q.jsr;google.ml=function(a,b,e,m,d){d=void 0===d?2:d;b&&(p=a&&a.message);if(google.dl)return google.dl(a,d,e),null;if(0>t){window.console&&console.error(a,e);if(-2===t)throw a;b=!1}else b=!a||!a.message||\"Error loading script\"===a.message||n>=k&&!m?!1:!0;if(!b)return null;n++;e=e||{};b=encodeURIComponent;var c=\"/gen_204?atyp=i&ei=\"+b(google.kEI);google.kEXPI&&(c+=\"&jexpid=\"+b(google.kEXPI));c+=\"&srcpg=\"+b(q.sp)+\"&jsr=\"+b(q.jsr)+\"&bver=\"+b(q.bv)+(\"&jsel=\"+d);c+=\"&sn=\"+b(google.sn);for(var r in e)c+=\"&\",c+=b(r),c+=\"=\",c+=b(e[r]);c=c+\"&emsg=\"+b(a.name+\": \"+a.message);c=c+\"&jsst=\"+b(a.stack||\"N/A\");12288<=c.length&&(c=c.substr(0,12288));a=c;m||google.log(0,\"\",a);return a};window.onerror=function(a,b,e,m,d){p!==a&&google.ml(d instanceof Error?d:Error(a),!1,void 0,!1,google.dl?0:2);p=null;l&&n>=k&&(window.onerror=null)};})();</script></head><body bgcolor=\"#fff\"><script nonce=\"SaW25zWxhBN3C4zhP+tG0w==\">(function(){var src='/images/nav_logo229.png';var iesg=false;document.body.onload = function(){window.n && window.n();if (document.images){new Image().src=src;}\n",
       " if (!iesg){document.f&&document.f.q.focus();document.gbqf&&document.gbqf.q.focus();}\n",
       " }\n",
       " })();</script><div id=\"mngb\"><div id=\"gbar\"><nobr><b class=\"gb1\">Search</b> <a class=\"gb1\" href=\"https://www.google.co.in/imghp?hl=en&amp;tab=wi\">Images</a> <a class=\"gb1\" href=\"https://maps.google.co.in/maps?hl=en&amp;tab=wl\">Maps</a> <a class=\"gb1\" href=\"https://play.google.com/?hl=en&amp;tab=w8\">Play</a> <a class=\"gb1\" href=\"https://www.youtube.com/?gl=IN&amp;tab=w1\">YouTube</a> <a class=\"gb1\" href=\"https://news.google.com/?tab=wn\">News</a> <a class=\"gb1\" href=\"https://mail.google.com/mail/?tab=wm\">Gmail</a> <a class=\"gb1\" href=\"https://drive.google.com/?tab=wo\">Drive</a> <a class=\"gb1\" href=\"https://www.google.co.in/intl/en/about/products?tab=wh\" style=\"text-decoration:none\"><u>More</u> »</a></nobr></div><div id=\"guser\" width=\"100%\"><nobr><span class=\"gbi\" id=\"gbn\"></span><span class=\"gbf\" id=\"gbf\"></span><span id=\"gbe\"></span><a class=\"gb4\" href=\"http://www.google.co.in/history/optout?hl=en\">Web History</a> | <a class=\"gb4\" href=\"/preferences?hl=en\">Settings</a> | <a class=\"gb4\" href=\"https://accounts.google.com/ServiceLogin?hl=en&amp;passive=true&amp;continue=https://www.google.com/&amp;ec=GAZAAQ\" id=\"gb_70\" target=\"_top\">Sign in</a></nobr></div><div class=\"gbh\" style=\"left:0\"></div><div class=\"gbh\" style=\"right:0\"></div></div><center><br clear=\"all\" id=\"lgpd\"/><div id=\"lga\"><a href=\"/search?ie=UTF-8&amp;q=Michiyo+Tsujimura&amp;oi=ddle&amp;ct=176202141&amp;hl=en&amp;si=AHuW2sRoWU-Pbcc4ro7J7T-D_KBseCAX6BqywQCsUcZZRInOZz1sPgllHL_hjbx2p5_oM-4VFTReqx_EK_cIoAhSSXnDvt_GcpwHCuQSeZiJDxgCDsf7DzvmRlnY6pmMAVUEvs-AixHo&amp;sa=X&amp;ved=0ahUKEwig2rvFn4bzAhXYEXAKHaPtCpwQPQgD\"><img alt=\"Michiyo Tsujimura's 133rd Birthday\" border=\"0\" height=\"200\" id=\"hplogo\" src=\"/logos/doodles/2021/michiyo-tsujimuras-133rd-birthday-6753651837109203-l.png\" title=\"Michiyo Tsujimura's 133rd Birthday\" width=\"500\"/><br/></a><br/></div><form action=\"/search\" name=\"f\"><table cellpadding=\"0\" cellspacing=\"0\"><tr valign=\"top\"><td width=\"25%\"> </td><td align=\"center\" nowrap=\"\"><input name=\"ie\" type=\"hidden\" value=\"ISO-8859-1\"/><input name=\"hl\" type=\"hidden\" value=\"en-IN\"/><input name=\"source\" type=\"hidden\" value=\"hp\"/><input name=\"biw\" type=\"hidden\"/><input name=\"bih\" type=\"hidden\"/><div class=\"ds\" style=\"height:32px;margin:4px 0\"><input autocomplete=\"off\" class=\"lst\" maxlength=\"2048\" name=\"q\" size=\"57\" style=\"margin:0;padding:5px 8px 0 6px;vertical-align:top;color:#000\" title=\"Google Search\" value=\"\"/></div><br style=\"line-height:0\"/><span class=\"ds\"><span class=\"lsbb\"><input class=\"lsb\" name=\"btnG\" type=\"submit\" value=\"Google Search\"/></span></span><span class=\"ds\"><span class=\"lsbb\"><input class=\"lsb\" id=\"tsuid1\" name=\"btnI\" type=\"submit\" value=\"I'm Feeling Lucky\"/><script nonce=\"SaW25zWxhBN3C4zhP+tG0w==\">(function(){var id='tsuid1';document.getElementById(id).onclick = function(){if (this.form.q.value){this.checked = 1;if (this.form.iflsig)this.form.iflsig.disabled = false;}\n",
       " else top.location='/doodles/';};})();</script><input name=\"iflsig\" type=\"hidden\" value=\"ALs-wAMAAAAAYUS36VvUqmS4v8DoZygrB8abXPBub-Hm\"/></span></span></td><td align=\"left\" class=\"fl sblc\" nowrap=\"\" width=\"25%\"><a href=\"/advanced_search?hl=en-IN&amp;authuser=0\">Advanced search</a></td></tr></table><input id=\"gbv\" name=\"gbv\" type=\"hidden\" value=\"1\"/><script nonce=\"SaW25zWxhBN3C4zhP+tG0w==\">(function(){\n",
       " var a,b=\"1\";if(document&&document.getElementById)if(\"undefined\"!=typeof XMLHttpRequest)b=\"2\";else if(\"undefined\"!=typeof ActiveXObject){var c,d,e=[\"MSXML2.XMLHTTP.6.0\",\"MSXML2.XMLHTTP.3.0\",\"MSXML2.XMLHTTP\",\"Microsoft.XMLHTTP\"];for(c=0;d=e[c++];)try{new ActiveXObject(d),b=\"2\"}catch(h){}}a=b;if(\"2\"==a&&-1==location.search.indexOf(\"&gbv=2\")){var f=google.gbvu,g=document.getElementById(\"gbv\");g&&(g.value=a);f&&window.setTimeout(function(){location.href=f},0)};}).call(this);</script></form><div id=\"gac_scont\"></div><div style=\"font-size:83%;min-height:3.5em\"><br/><div id=\"gws-output-pages-elements-homepage_additional_languages__als\"><style>#gws-output-pages-elements-homepage_additional_languages__als{font-size:small;margin-bottom:24px}#SIvCob{color:#3c4043;display:inline-block;line-height:28px;}#SIvCob a{padding:0 3px;}.H6sW5{display:inline-block;margin:0 2px;white-space:nowrap}.z4hgWe{display:inline-block;margin:0 2px}</style><div id=\"SIvCob\">Google offered in:  <a href=\"https://www.google.com/setprefs?sig=0_dtMbMzkjnNvdPLtPzCR_7Ijn5_E%3D&amp;hl=hi&amp;source=homepage&amp;sa=X&amp;ved=0ahUKEwig2rvFn4bzAhXYEXAKHaPtCpwQ2ZgBCAU\">हिन्दी</a> <a href=\"https://www.google.com/setprefs?sig=0_dtMbMzkjnNvdPLtPzCR_7Ijn5_E%3D&amp;hl=bn&amp;source=homepage&amp;sa=X&amp;ved=0ahUKEwig2rvFn4bzAhXYEXAKHaPtCpwQ2ZgBCAY\">বাংলা</a> <a href=\"https://www.google.com/setprefs?sig=0_dtMbMzkjnNvdPLtPzCR_7Ijn5_E%3D&amp;hl=te&amp;source=homepage&amp;sa=X&amp;ved=0ahUKEwig2rvFn4bzAhXYEXAKHaPtCpwQ2ZgBCAc\">తెలుగు</a> <a href=\"https://www.google.com/setprefs?sig=0_dtMbMzkjnNvdPLtPzCR_7Ijn5_E%3D&amp;hl=mr&amp;source=homepage&amp;sa=X&amp;ved=0ahUKEwig2rvFn4bzAhXYEXAKHaPtCpwQ2ZgBCAg\">मराठी</a> <a href=\"https://www.google.com/setprefs?sig=0_dtMbMzkjnNvdPLtPzCR_7Ijn5_E%3D&amp;hl=ta&amp;source=homepage&amp;sa=X&amp;ved=0ahUKEwig2rvFn4bzAhXYEXAKHaPtCpwQ2ZgBCAk\">தமிழ்</a> <a href=\"https://www.google.com/setprefs?sig=0_dtMbMzkjnNvdPLtPzCR_7Ijn5_E%3D&amp;hl=gu&amp;source=homepage&amp;sa=X&amp;ved=0ahUKEwig2rvFn4bzAhXYEXAKHaPtCpwQ2ZgBCAo\">ગુજરાતી</a> <a href=\"https://www.google.com/setprefs?sig=0_dtMbMzkjnNvdPLtPzCR_7Ijn5_E%3D&amp;hl=kn&amp;source=homepage&amp;sa=X&amp;ved=0ahUKEwig2rvFn4bzAhXYEXAKHaPtCpwQ2ZgBCAs\">ಕನ್ನಡ</a> <a href=\"https://www.google.com/setprefs?sig=0_dtMbMzkjnNvdPLtPzCR_7Ijn5_E%3D&amp;hl=ml&amp;source=homepage&amp;sa=X&amp;ved=0ahUKEwig2rvFn4bzAhXYEXAKHaPtCpwQ2ZgBCAw\">മലയാളം</a> <a href=\"https://www.google.com/setprefs?sig=0_dtMbMzkjnNvdPLtPzCR_7Ijn5_E%3D&amp;hl=pa&amp;source=homepage&amp;sa=X&amp;ved=0ahUKEwig2rvFn4bzAhXYEXAKHaPtCpwQ2ZgBCA0\">ਪੰਜਾਬੀ</a> </div></div></div><span id=\"footer\"><div style=\"font-size:10pt\"><div id=\"WqQANb\" style=\"margin:19px auto;text-align:center\"><a href=\"/intl/en/ads/\">Advertising Programs</a><a href=\"http://www.google.co.in/services/\">Business Solutions</a><a href=\"/intl/en/about.html\">About Google</a><a href=\"https://www.google.com/setprefdomain?prefdom=IN&amp;prev=https://www.google.co.in/&amp;sig=K_EJsXs-3wyUL9OeXTLQrOnB_W9SA%3D\">Google.co.in</a></div></div><p style=\"font-size:8pt;color:#70757a\">© 2021 - <a href=\"/intl/en/policies/privacy/\">Privacy</a> - <a href=\"/intl/en/policies/terms/\">Terms</a></p></span></center><script nonce=\"SaW25zWxhBN3C4zhP+tG0w==\">(function(){window.google.cdo={height:757,width:1440};(function(){\n",
       " var a=window.innerWidth,b=window.innerHeight;if(!a||!b){var c=window.document,d=\"CSS1Compat\"==c.compatMode?c.documentElement:c.body;a=d.clientWidth;b=d.clientHeight}a&&b&&(a!=google.cdo.width||b!=google.cdo.height)&&google.log(\"\",\"\",\"/client_204?&atyp=i&biw=\"+a+\"&bih=\"+b+\"&ei=\"+google.kEI);}).call(this);})();</script> <script nonce=\"SaW25zWxhBN3C4zhP+tG0w==\">(function(){google.xjs={ck:'',cs:'',excm:[]};})();</script> <script nonce=\"SaW25zWxhBN3C4zhP+tG0w==\">(function(){var u='/xjs/_/js/k\\x3dxjs.hp.en.rU4kjlNV_6k.O/am\\x3dAPgEWA/d\\x3d1/ed\\x3d1/rs\\x3dACT90oG3THr4zuM-1kshef_ZgS4qkMJX_w/m\\x3dsb_he,d';\n",
       " var e=this||self,f=function(a){return a};var g;var l=function(a,b){this.g=b===h?a:\"\"};l.prototype.toString=function(){return this.g+\"\"};var h={};function m(){var a=u;google.lx=function(){n(a);google.lx=function(){}};google.bx||google.lx()}\n",
       " function n(a){google.timers&&google.timers.load&&google.tick&&google.tick(\"load\",\"xjsls\");var b=document;var c=\"SCRIPT\";\"application/xhtml+xml\"===b.contentType&&(c=c.toLowerCase());c=b.createElement(c);if(void 0===g){b=null;var k=e.trustedTypes;if(k&&k.createPolicy){try{b=k.createPolicy(\"goog#html\",{createHTML:f,createScript:f,createScriptURL:f})}catch(p){e.console&&e.console.error(p.message)}g=b}else g=b}a=(b=g)?b.createScriptURL(a):a;a=new l(a,h);c.src=a instanceof l&&a.constructor===l?a.g:\"type_error:TrustedResourceUrl\";var d;a=(c.ownerDocument&&c.ownerDocument.defaultView||window).document;(d=(b=null===(d=a.querySelector)||void 0===d?void 0:d.call(a,\"script[nonce]\"))?b.nonce||b.getAttribute(\"nonce\")||\"\":\"\")&&c.setAttribute(\"nonce\",d);document.body.appendChild(c);google.psa=!0};setTimeout(function(){m()},0);})();(function(){window.google.xjsu='/xjs/_/js/k\\x3dxjs.hp.en.rU4kjlNV_6k.O/am\\x3dAPgEWA/d\\x3d1/ed\\x3d1/rs\\x3dACT90oG3THr4zuM-1kshef_ZgS4qkMJX_w/m\\x3dsb_he,d';})();function _DumpException(e){throw e;}\n",
       " function _F_installCss(c){}\n",
       " (function(){google.jl={attn:false,blt:'none',chnk:0,dw:false,dwu:false,emtn:0,end:0,ine:false,lls:'default',pdt:0,rep:0,sif:true,snet:true,strt:0,ubm:false,uwp:true};})();(function(){var pmc='{\\x22d\\x22:{},\\x22sb_he\\x22:{\\x22agen\\x22:true,\\x22cgen\\x22:true,\\x22client\\x22:\\x22heirloom-hp\\x22,\\x22dh\\x22:true,\\x22dhqt\\x22:true,\\x22ds\\x22:\\x22\\x22,\\x22ffql\\x22:\\x22en\\x22,\\x22fl\\x22:true,\\x22host\\x22:\\x22google.com\\x22,\\x22isbh\\x22:28,\\x22jsonp\\x22:true,\\x22msgs\\x22:{\\x22cibl\\x22:\\x22Clear Search\\x22,\\x22dym\\x22:\\x22Did you mean:\\x22,\\x22lcky\\x22:\\x22I\\\\u0026#39;m Feeling Lucky\\x22,\\x22lml\\x22:\\x22Learn more\\x22,\\x22oskt\\x22:\\x22Input tools\\x22,\\x22psrc\\x22:\\x22This search was removed from your \\\\u003Ca href\\x3d\\\\\\x22/history\\\\\\x22\\\\u003EWeb History\\\\u003C/a\\\\u003E\\x22,\\x22psrl\\x22:\\x22Remove\\x22,\\x22sbit\\x22:\\x22Search by image\\x22,\\x22srch\\x22:\\x22Google Search\\x22},\\x22ovr\\x22:{},\\x22pq\\x22:\\x22\\x22,\\x22refpd\\x22:true,\\x22rfs\\x22:[],\\x22sbas\\x22:\\x220 3px 8px 0 rgba(0,0,0,0.2),0 0 0 1px rgba(0,0,0,0.08)\\x22,\\x22sbpl\\x22:16,\\x22sbpr\\x22:16,\\x22scd\\x22:10,\\x22stok\\x22:\\x226NDUdtaMaWFwyMaZ9Jaj5EucUIQ\\x22,\\x22uhde\\x22:false}}';google.pmc=JSON.parse(pmc);})();</script> </body></html>]"
      ]
     },
     "metadata": {},
     "execution_count": 3
    }
   ],
   "metadata": {}
  },
  {
   "cell_type": "markdown",
   "source": [
    "### 1. To read all the hyperlink"
   ],
   "metadata": {}
  },
  {
   "cell_type": "code",
   "execution_count": 4,
   "source": [
    "for link in soup.findAll('a'):\r\n",
    " print(link.get('href'))"
   ],
   "outputs": [
    {
     "output_type": "stream",
     "name": "stdout",
     "text": [
      "https://www.google.co.in/imghp?hl=en&tab=wi\n",
      "https://maps.google.co.in/maps?hl=en&tab=wl\n",
      "https://play.google.com/?hl=en&tab=w8\n",
      "https://www.youtube.com/?gl=IN&tab=w1\n",
      "https://news.google.com/?tab=wn\n",
      "https://mail.google.com/mail/?tab=wm\n",
      "https://drive.google.com/?tab=wo\n",
      "https://www.google.co.in/intl/en/about/products?tab=wh\n",
      "http://www.google.co.in/history/optout?hl=en\n",
      "/preferences?hl=en\n",
      "https://accounts.google.com/ServiceLogin?hl=en&passive=true&continue=https://www.google.com/&ec=GAZAAQ\n",
      "/search?ie=UTF-8&q=Michiyo+Tsujimura&oi=ddle&ct=176202141&hl=en&si=AHuW2sRoWU-Pbcc4ro7J7T-D_KBseCAX6BqywQCsUcZZRInOZz1sPgllHL_hjbx2p5_oM-4VFTReqx_EK_cIoAhSSXnDvt_GcpwHCuQSeZiJDxgCDsf7DzvmRlnY6pmMAVUEvs-AixHo&sa=X&ved=0ahUKEwig2rvFn4bzAhXYEXAKHaPtCpwQPQgD\n",
      "/advanced_search?hl=en-IN&authuser=0\n",
      "https://www.google.com/setprefs?sig=0_dtMbMzkjnNvdPLtPzCR_7Ijn5_E%3D&hl=hi&source=homepage&sa=X&ved=0ahUKEwig2rvFn4bzAhXYEXAKHaPtCpwQ2ZgBCAU\n",
      "https://www.google.com/setprefs?sig=0_dtMbMzkjnNvdPLtPzCR_7Ijn5_E%3D&hl=bn&source=homepage&sa=X&ved=0ahUKEwig2rvFn4bzAhXYEXAKHaPtCpwQ2ZgBCAY\n",
      "https://www.google.com/setprefs?sig=0_dtMbMzkjnNvdPLtPzCR_7Ijn5_E%3D&hl=te&source=homepage&sa=X&ved=0ahUKEwig2rvFn4bzAhXYEXAKHaPtCpwQ2ZgBCAc\n",
      "https://www.google.com/setprefs?sig=0_dtMbMzkjnNvdPLtPzCR_7Ijn5_E%3D&hl=mr&source=homepage&sa=X&ved=0ahUKEwig2rvFn4bzAhXYEXAKHaPtCpwQ2ZgBCAg\n",
      "https://www.google.com/setprefs?sig=0_dtMbMzkjnNvdPLtPzCR_7Ijn5_E%3D&hl=ta&source=homepage&sa=X&ved=0ahUKEwig2rvFn4bzAhXYEXAKHaPtCpwQ2ZgBCAk\n",
      "https://www.google.com/setprefs?sig=0_dtMbMzkjnNvdPLtPzCR_7Ijn5_E%3D&hl=gu&source=homepage&sa=X&ved=0ahUKEwig2rvFn4bzAhXYEXAKHaPtCpwQ2ZgBCAo\n",
      "https://www.google.com/setprefs?sig=0_dtMbMzkjnNvdPLtPzCR_7Ijn5_E%3D&hl=kn&source=homepage&sa=X&ved=0ahUKEwig2rvFn4bzAhXYEXAKHaPtCpwQ2ZgBCAs\n",
      "https://www.google.com/setprefs?sig=0_dtMbMzkjnNvdPLtPzCR_7Ijn5_E%3D&hl=ml&source=homepage&sa=X&ved=0ahUKEwig2rvFn4bzAhXYEXAKHaPtCpwQ2ZgBCAw\n",
      "https://www.google.com/setprefs?sig=0_dtMbMzkjnNvdPLtPzCR_7Ijn5_E%3D&hl=pa&source=homepage&sa=X&ved=0ahUKEwig2rvFn4bzAhXYEXAKHaPtCpwQ2ZgBCA0\n",
      "/intl/en/ads/\n",
      "http://www.google.co.in/services/\n",
      "/intl/en/about.html\n",
      "https://www.google.com/setprefdomain?prefdom=IN&prev=https://www.google.co.in/&sig=K_EJsXs-3wyUL9OeXTLQrOnB_W9SA%3D\n",
      "/intl/en/policies/privacy/\n",
      "/intl/en/policies/terms/\n"
     ]
    }
   ],
   "metadata": {}
  },
  {
   "cell_type": "markdown",
   "source": [
    "### 2. To read head part "
   ],
   "metadata": {}
  },
  {
   "cell_type": "code",
   "execution_count": 5,
   "source": [
    "soup.findAll('head')"
   ],
   "outputs": [
    {
     "output_type": "execute_result",
     "data": {
      "text/plain": [
       "[<head><meta content=\"text/html; charset=utf-8\" http-equiv=\"Content-Type\"/><meta content=\"/logos/doodles/2021/michiyo-tsujimuras-133rd-birthday-6753651837109203-l.png\" itemprop=\"image\"/><meta content=\"Michiyo Tsujimura's 133rd Birthday\" property=\"twitter:title\"/><meta content=\"Michiyo Tsujimura's 133rd Birthday! #GoogleDoodle\" property=\"twitter:description\"/><meta content=\"Michiyo Tsujimura's 133rd Birthday! #GoogleDoodle\" property=\"og:description\"/><meta content=\"summary_large_image\" property=\"twitter:card\"/><meta content=\"@GoogleDoodles\" property=\"twitter:site\"/><meta content=\"https://www.google.com/logos/doodles/2021/michiyo-tsujimuras-133rd-birthday-6753651837109203.2-2x.png\" property=\"twitter:image\"/><meta content=\"https://www.google.com/logos/doodles/2021/michiyo-tsujimuras-133rd-birthday-6753651837109203.2-2x.png\" property=\"og:image\"/><meta content=\"1000\" property=\"og:image:width\"/><meta content=\"400\" property=\"og:image:height\"/><title>Google</title><script nonce=\"SaW25zWxhBN3C4zhP+tG0w==\">(function(){window.google={kEI:'2alEYeCJDtijwAOj26vgCQ',kEXPI:'0,1302536,56873,954,5104,207,2415,2389,2316,383,246,5,1354,5251,1122515,1197770,631,328866,51224,16114,17444,11240,17572,4858,1362,9291,3021,3896,13691,4020,978,13228,3847,4192,6430,1141,6291,1221,10391,2778,919,5081,1593,1279,2212,530,149,1103,840,6297,108,3406,606,2023,1777,520,14670,3227,2845,7,5599,6755,5096,16320,908,2,941,2614,13142,3,576,1014,1,5444,149,11323,2652,4,1528,2304,1236,5803,74,1983,2627,2014,11501,3824,3050,2658,4243,3114,30,13628,2305,638,7080,11200,5809,2548,4094,3138,6,908,3,3541,1,14716,1809,282,912,5994,15445,8,656,617,1715,2,3057,5548,20,1214,3,33,3,5388,3,684,784,255,55,3,4492,743,5853,1576,3,471,4473,2,1,2,3935,1160,1269,4921,2,508,2380,2719,2988,494,1063,3,123,3856,1494,360,5028,2833,2,2,5,7771,1933,2636,1596,981,372,2764,539,2076,398,1520,3,583,793,1265,91,805,40,2,4,1,1,2202,720,2,534,980,2,3500,7,1159,1397,319,26,31,4,52,78,39,198,35,415,800,2285,20,48,2711,2,391,2,2002,529,54,60,1825,39,1623,489,68,2,142,676,3,730,228,238,258,8,3634,4,563,987,1101,312,383,160,5575102,446,73,9,78,46,73,5996069,521,2800696,882,444,1,2,80,1,1796,1,9,2553,1,748,141,795,563,1,4265,1,1,2,1331,4142,2609,155,17,13,72,139,4,2,20,2,169,13,19,46,5,39,96,548,29,2,2,1,2,1,2,2,7,4,1,2,2,2,2,2,2,353,513,186,1,1,158,3,2,2,2,2,2,4,2,3,3,269,349,3,170,13,16,5,4,44,3,37,17,35,23654162,299865,4041351,338,3,2414,448,2,463,172,406,9,3239,1274,264,887,849',kBL:'6coZ'};google.sn='webhp';google.kHL='en-IN';})();(function(){\n",
       " var f=this||self;var h,k=[];function l(a){for(var b;a&&(!a.getAttribute||!(b=a.getAttribute(\"eid\")));)a=a.parentNode;return b||h}function m(a){for(var b=null;a&&(!a.getAttribute||!(b=a.getAttribute(\"leid\")));)a=a.parentNode;return b}\n",
       " function n(a,b,c,d,g){var e=\"\";c||-1!==b.search(\"&ei=\")||(e=\"&ei=\"+l(d),-1===b.search(\"&lei=\")&&(d=m(d))&&(e+=\"&lei=\"+d));d=\"\";!c&&f._cshid&&-1===b.search(\"&cshid=\")&&\"slh\"!==a&&(d=\"&cshid=\"+f._cshid);c=c||\"/\"+(g||\"gen_204\")+\"?atyp=i&ct=\"+a+\"&cad=\"+b+e+\"&zx=\"+Date.now()+d;/^http:/i.test(c)&&\"https:\"===window.location.protocol&&(google.ml&&google.ml(Error(\"a\"),!1,{src:c,glmm:1}),c=\"\");return c};h=google.kEI;google.getEI=l;google.getLEI=m;google.ml=function(){return null};google.log=function(a,b,c,d,g){if(c=n(a,b,c,d,g)){a=new Image;var e=k.length;k[e]=a;a.onerror=a.onload=a.onabort=function(){delete k[e]};a.src=c}};google.logUrl=n;}).call(this);(function(){\n",
       " google.y={};google.sy=[];google.x=function(a,b){if(a)var c=a.id;else{do c=Math.random();while(google.y[c])}google.y[c]=[a,b];return!1};google.sx=function(a){google.sy.push(a)};google.lm=[];google.plm=function(a){google.lm.push.apply(google.lm,a)};google.lq=[];google.load=function(a,b,c){google.lq.push([[a],b,c])};google.loadAll=function(a,b){google.lq.push([a,b])};google.bx=!1;google.lx=function(){};}).call(this);google.f={};(function(){\n",
       " document.documentElement.addEventListener(\"submit\",function(b){var a;if(a=b.target){var c=a.getAttribute(\"data-submitfalse\");a=\"1\"===c||\"q\"===c&&!a.elements.q.value?!0:!1}else a=!1;a&&(b.preventDefault(),b.stopPropagation())},!0);document.documentElement.addEventListener(\"click\",function(b){var a;a:{for(a=b.target;a&&a!==document.documentElement;a=a.parentElement)if(\"A\"===a.tagName){a=\"1\"===a.getAttribute(\"data-nohref\");break a}a=!1}a&&b.preventDefault()},!0);}).call(this);</script><style>#gbar,#guser{font-size:13px;padding-top:1px !important;}#gbar{height:22px}#guser{padding-bottom:7px !important;text-align:right}.gbh,.gbd{border-top:1px solid #c9d7f1;font-size:1px}.gbh{height:0;position:absolute;top:24px;width:100%}@media all{.gb1{height:22px;margin-right:.5em;vertical-align:top}#gbar{float:left}}a.gb1,a.gb4{text-decoration:underline !important}a.gb1,a.gb4{color:#00c !important}.gbi .gb4{color:#dd8e27 !important}.gbf .gb4{color:#900 !important}\n",
       " </style><style>body,td,a,p,.h{font-family:arial,sans-serif}body{margin:0;overflow-y:scroll}#gog{padding:3px 8px 0}td{line-height:.8em}.gac_m td{line-height:17px}form{margin-bottom:20px}.h{color:#1558d6}em{font-weight:bold;font-style:normal}.lst{height:25px;width:496px}.gsfi,.lst{font:18px arial,sans-serif}.gsfs{font:17px arial,sans-serif}.ds{display:inline-box;display:inline-block;margin:3px 0 4px;margin-left:4px}input{font-family:inherit}body{background:#fff;color:#000}a{color:#4b11a8;text-decoration:none}a:hover,a:active{text-decoration:underline}.fl a{color:#1558d6}a:visited{color:#4b11a8}.sblc{padding-top:5px}.sblc a{display:block;margin:2px 0;margin-left:13px;font-size:11px}.lsbb{background:#f8f9fa;border:solid 1px;border-color:#dadce0 #70757a #70757a #dadce0;height:30px}.lsbb{display:block}#WqQANb a{display:inline-block;margin:0 12px}.lsb{background:url(/images/nav_logo229.png) 0 -261px repeat-x;border:none;color:#000;cursor:pointer;height:30px;margin:0;outline:0;font:15px arial,sans-serif;vertical-align:top}.lsb:active{background:#dadce0}.lst:focus{outline:none}</style><script nonce=\"SaW25zWxhBN3C4zhP+tG0w==\">(function(){window.google.erd={sp:'hp',jsr:0,bv:166};\n",
       " var f=this||self;var g,h,k=null!==(g=f.mei)&&void 0!==g?g:1,l=null!==(h=f.sdo)&&void 0!==h?h:!0,n=0,p,q=google.erd,t=q.jsr;google.ml=function(a,b,e,m,d){d=void 0===d?2:d;b&&(p=a&&a.message);if(google.dl)return google.dl(a,d,e),null;if(0>t){window.console&&console.error(a,e);if(-2===t)throw a;b=!1}else b=!a||!a.message||\"Error loading script\"===a.message||n>=k&&!m?!1:!0;if(!b)return null;n++;e=e||{};b=encodeURIComponent;var c=\"/gen_204?atyp=i&ei=\"+b(google.kEI);google.kEXPI&&(c+=\"&jexpid=\"+b(google.kEXPI));c+=\"&srcpg=\"+b(q.sp)+\"&jsr=\"+b(q.jsr)+\"&bver=\"+b(q.bv)+(\"&jsel=\"+d);c+=\"&sn=\"+b(google.sn);for(var r in e)c+=\"&\",c+=b(r),c+=\"=\",c+=b(e[r]);c=c+\"&emsg=\"+b(a.name+\": \"+a.message);c=c+\"&jsst=\"+b(a.stack||\"N/A\");12288<=c.length&&(c=c.substr(0,12288));a=c;m||google.log(0,\"\",a);return a};window.onerror=function(a,b,e,m,d){p!==a&&google.ml(d instanceof Error?d:Error(a),!1,void 0,!1,google.dl?0:2);p=null;l&&n>=k&&(window.onerror=null)};})();</script></head>]"
      ]
     },
     "metadata": {},
     "execution_count": 5
    }
   ],
   "metadata": {}
  },
  {
   "cell_type": "markdown",
   "source": [
    "### 3. To read table data "
   ],
   "metadata": {}
  },
  {
   "cell_type": "code",
   "execution_count": 7,
   "source": [
    "arr = []\r\n",
    "for text in soup.findAll('td'):\r\n",
    " arr.append(text.get_text())\r\n",
    "arr"
   ],
   "outputs": [
    {
     "output_type": "execute_result",
     "data": {
      "text/plain": [
       "['\\xa0', '', 'Advanced search']"
      ]
     },
     "metadata": {},
     "execution_count": 7
    }
   ],
   "metadata": {}
  }
 ],
 "metadata": {
  "orig_nbformat": 4,
  "language_info": {
   "name": "python",
   "version": "3.9.6",
   "mimetype": "text/x-python",
   "codemirror_mode": {
    "name": "ipython",
    "version": 3
   },
   "pygments_lexer": "ipython3",
   "nbconvert_exporter": "python",
   "file_extension": ".py"
  },
  "kernelspec": {
   "name": "python3",
   "display_name": "Python 3.9.6 64-bit"
  },
  "interpreter": {
   "hash": "63fd5069d213b44bf678585dea6b12cceca9941eaf7f819626cde1f2670de90d"
  }
 },
 "nbformat": 4,
 "nbformat_minor": 2
}