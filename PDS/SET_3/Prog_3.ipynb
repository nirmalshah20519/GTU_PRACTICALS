{
  "nbformat": 4,
  "nbformat_minor": 2,
  "metadata": {
    "orig_nbformat": 4,
    "language_info": {
      "name": "python",
      "version": "3.9.6",
      "mimetype": "text/x-python",
      "codemirror_mode": {
        "name": "ipython",
        "version": 3
      },
      "pygments_lexer": "ipython3",
      "nbconvert_exporter": "python",
      "file_extension": ".py"
    },
    "kernelspec": {
      "name": "python3",
      "display_name": "Python 3.9.6 64-bit"
    },
    "interpreter": {
      "hash": "63fd5069d213b44bf678585dea6b12cceca9941eaf7f819626cde1f2670de90d"
    },
    "colab": {
      "name": "Prog_3.ipynb",
      "provenance": []
    }
  },
  "cells": [
    {
      "cell_type": "markdown",
      "source": [
        "# Program 3 - Natural language processing"
      ],
      "metadata": {
        "id": "RTwjRaPlgwN8"
      }
    },
    {
      "cell_type": "markdown",
      "source": [
        "### (a) Write NLP program using NLTK library to read text data from website and convert into appropriate feature table using Bag of words method"
      ],
      "metadata": {
        "id": "J5Hd9TsKgwOA"
      }
    },
    {
      "cell_type": "code",
      "execution_count": null,
      "source": [
        "docs = []\r\n",
        "k=0;\r\n",
        "for text in soup.findAll('p'):\r\n",
        "    if(text.get_text()==''or text.get_text()==' '):\r\n",
        "        continue\r\n",
        "    docs.insert(k,text.get_text())\r\n",
        "    k = k+1\r\n",
        "docs"
      ],
      "outputs": [
        {
          "output_type": "execute_result",
          "data": {
            "text/plain": [
              "['© 2021 - Privacy - Terms']"
            ]
          },
          "metadata": {},
          "execution_count": 4
        }
      ],
      "metadata": {
        "colab": {
          "base_uri": "https://localhost:8080/"
        },
        "id": "spwon52hgwOB",
        "outputId": "f9336cc1-c34d-4378-d373-8c136a777b8e"
      }
    },
    {
      "cell_type": "markdown",
      "source": [
        "### (b) Write NLP program using NLTK library to read text data from website and convert into appropriate feature table using TF-TDF method."
      ],
      "metadata": {
        "id": "XJSxr8aYgwOE"
      }
    },
    {
      "cell_type": "code",
      "execution_count": null,
      "source": [
        "from keras.preprocessing.text import Tokenizer\r\n",
        "tokenizer = Tokenizer()\r\n",
        "tokenizer.fit_on_texts(docs)\r\n",
        "print(f'Vocabulary: {list(tokenizer.word_index.keys())}')"
      ],
      "outputs": [
        {
          "output_type": "stream",
          "name": "stdout",
          "text": [
            "Vocabulary: ['©', '2021', 'privacy', 'terms']\n"
          ]
        }
      ],
      "metadata": {
        "colab": {
          "base_uri": "https://localhost:8080/"
        },
        "id": "pIaGQU4JgwOF",
        "outputId": "82949555-bd2f-4874-edd5-8fe10628a275"
      }
    }
  ]
}