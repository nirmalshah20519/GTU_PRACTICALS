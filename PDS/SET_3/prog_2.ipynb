{
  "nbformat": 4,
  "nbformat_minor": 2,
  "metadata": {
    "orig_nbformat": 4,
    "language_info": {
      "name": "python",
      "version": "3.9.6",
      "mimetype": "text/x-python",
      "codemirror_mode": {
        "name": "ipython",
        "version": 3
      },
      "pygments_lexer": "ipython3",
      "nbconvert_exporter": "python",
      "file_extension": ".py"
    },
    "kernelspec": {
      "name": "python3",
      "display_name": "Python 3.9.6 64-bit"
    },
    "interpreter": {
      "hash": "63fd5069d213b44bf678585dea6b12cceca9941eaf7f819626cde1f2670de90d"
    },
    "colab": {
      "name": "prog_2.ipynb",
      "provenance": []
    }
  },
  "cells": [
    {
      "cell_type": "markdown",
      "source": [
        "# Program 2 - Regular Exression"
      ],
      "metadata": {
        "id": "bKdDpe-4iIJU"
      }
    },
    {
      "cell_type": "code",
      "execution_count": null,
      "source": [
        "import re"
      ],
      "outputs": [],
      "metadata": {
        "id": "LWH1IYlPiIJc"
      }
    },
    {
      "cell_type": "markdown",
      "source": [
        "### Write a Regular expression code to verify email address.\n",
        "### Example: abc@gmail.com"
      ],
      "metadata": {
        "id": "S9n2kQ4IiIJe"
      }
    },
    {
      "cell_type": "code",
      "execution_count": null,
      "source": [
        "pattern = r'[a-zA-Z0-9]+@[a-zA-Z]+\\.(com|edu|net)'\r\n",
        "Str=[\"microsoft.acc@@\",\"abc@gmail.com\",\"json@erfc.edu\",\"facebook\",\"book@erf.net\",\"hello##\"]\r\n",
        "for i in Str:\r\n",
        "    if(re.search(pattern,i)):\r\n",
        "        print(i,\" - Valid\")\r\n",
        "    else:\r\n",
        "        print(i,\" - Not Valid\")"
      ],
      "outputs": [
        {
          "output_type": "stream",
          "name": "stdout",
          "text": [
            "microsoft.acc@@  - Not Valid\n",
            "abc@gmail.com  - Valid\n",
            "json@erfc.edu  - Valid\n",
            "facebook  - Not Valid\n",
            "book@erf.net  - Valid\n",
            "hello##  - Not Valid\n"
          ]
        }
      ],
      "metadata": {
        "id": "vG9aFdJwiIJf",
        "outputId": "69de61c6-20de-4730-c5f7-9c2d504717d7"
      }
    }
  ]
}